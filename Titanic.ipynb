{
 "cells": [
  {
   "cell_type": "code",
   "execution_count": 1,
   "metadata": {},
   "outputs": [],
   "source": [
    "import pandas\n",
    "import numpy as np\n",
    "\n",
    "# for Learning\n",
    "from sklearn.linear_model import LogisticRegression\n",
    "from sklearn.svm import SVC\n",
    "from sklearn.neighbors import KNeighborsClassifier\n",
    "from sklearn.ensemble import GradientBoostingClassifier, RandomForestClassifier, VotingClassifier\n",
    "\n",
    "# for Feature Engineering\n",
    "from sklearn.preprocessing import MinMaxScaler\n",
    "from sklearn.model_selection import KFold\n",
    "from sklearn.model_selection import cross_val_score\n",
    "\n",
    "# for visualization\n",
    "import matplotlib.pyplot as plt\n",
    "import seaborn as sns\n",
    "sns.set()"
   ]
  },
  {
   "cell_type": "code",
   "execution_count": 2,
   "metadata": {},
   "outputs": [],
   "source": [
    "train_data_X = pandas.read_csv('train.csv', delimiter=',')\n",
    "test_data_X  = pandas.read_csv('test.csv', delimiter=',')\n",
    "\n",
    "test_data_X  = test_data_X.drop(columns=['Cabin', 'Ticket', 'PassengerId', 'Name'])\n",
    "test_data_Y  = 0\n",
    "train_data_Y = train_data_X['Survived']\n",
    "train_data_X = train_data_X.drop(columns=['Cabin', 'Ticket', 'PassengerId', 'Name', 'Survived'])\n",
    "\n",
    "\n",
    "\n",
    "important_features = ['Embarked', 'Sex', 'Pclass']\n",
    "\n",
    "'''\n",
    "    fillMissing: fill columns containing missing.\n",
    "    Base on: Embarked, Sex, Pclass\n",
    "    1. Filter rows whose features have the same value with the dealing with one   \n",
    "'''\n",
    "\n",
    "\n",
    "def quantization(data):\n",
    "\n",
    "    for index, row in data.iterrows():\n",
    "        # SibSp, Parch\n",
    "        if row['SibSp'] > 1:\n",
    "            data.at[row.name, 'SibSp'] = 2\n",
    "        if row['Parch'] > 1:\n",
    "            data.at[row.name, 'Parch'] = 2\n",
    "\n",
    "        # Embarked\n",
    "        if row['Embarked'] == 'S':\n",
    "            data.at[row.name, 'Embarked'] = 0\n",
    "        elif row['Embarked'] == 'C':\n",
    "            data.at[row.name, 'Embarked'] = 1\n",
    "        else:\n",
    "            data.at[row.name, 'Embarked'] = 2\n",
    "\n",
    "        # Sex\n",
    "        if row['Sex'] == 'male':\n",
    "            data.at[row.name, 'Sex'] = 1\n",
    "        else:\n",
    "            data.at[row.name, 'Sex'] = 2\n",
    "            \n",
    "#         #Age\n",
    "#         if row['Age'] < 15:\n",
    "#             data.at[row.name, 'Age'] = 1\n",
    "#         elif row['Age'] < 35:\n",
    "#             data.at[row.name, 'Age'] = 2\n",
    "#         elif row['Age'] < 55:\n",
    "#             data.at[row.name, 'Age'] = 3\n",
    "#         else:\n",
    "#             data.at[row.name, 'Age'] = 4\n",
    "\n",
    "\n",
    "def fill_missing(data, feature):\n",
    "    null_data = data[data[feature].isnull()]\n",
    "\n",
    "    for index, row in null_data.iterrows():\n",
    "        nulldata_Embarked = row['Embarked']\n",
    "        nulldata_Sex      = row['Sex']\n",
    "        nulldata_Pclass   = row['Pclass']\n",
    "\n",
    "        series_null = 1\n",
    "        for im_feature, nulldata_value in zip(important_features, [nulldata_Embarked, nulldata_Sex, nulldata_Pclass]):\n",
    "            if im_feature != feature:\n",
    "                series_null = series_null & (data[im_feature] == nulldata_value)\n",
    "\n",
    "        filtered_column = (data.loc[series_null])[feature]\n",
    "        data.at[row.name, feature] = filtered_column.mean()"
   ]
  },
  {
   "cell_type": "code",
   "execution_count": 3,
   "metadata": {},
   "outputs": [],
   "source": [
    "quantization(data=train_data_X)\n",
    "fill_missing(train_data_X, 'Fare')\n",
    "fill_missing(train_data_X, 'Age')\n",
    "\n",
    "quantization(test_data_X)\n",
    "fill_missing(test_data_X, 'Fare')\n",
    "fill_missing(test_data_X, 'Age')"
   ]
  },
  {
   "cell_type": "code",
   "execution_count": 4,
   "metadata": {},
   "outputs": [
    {
     "name": "stderr",
     "output_type": "stream",
     "text": [
      "/home/tommy/Program_Files/anaconda3/envs/Machine_Learning/lib/python3.7/site-packages/sklearn/preprocessing/data.py:334: DataConversionWarning: Data with input dtype int64, float64, object were all converted to float64 by MinMaxScaler.\n",
      "  return self.partial_fit(X, y)\n"
     ]
    },
    {
     "data": {
      "text/plain": [
       "MinMaxScaler(copy=True, feature_range=(0, 1))"
      ]
     },
     "execution_count": 4,
     "metadata": {},
     "output_type": "execute_result"
    }
   ],
   "source": [
    "scaler = MinMaxScaler()\n",
    "scaler.fit(train_data_X)"
   ]
  },
  {
   "cell_type": "code",
   "execution_count": 4,
   "metadata": {},
   "outputs": [],
   "source": [
    "# train_data_Xtransformed = scaler.transform(train_data_X)\n",
    "# test_data_Xtransformed = scaler.transform(test_data_X)\n",
    "\n",
    "# train_data_Xtransformed = train_data_X.values\n",
    "# test_data_Xtransformed = scaler.transform(test_data_X)\n",
    "\n",
    "train_data_Xtransformed = train_data_X\n",
    "test_data_Xtransformed = test_data_X"
   ]
  },
  {
   "cell_type": "code",
   "execution_count": 5,
   "metadata": {},
   "outputs": [],
   "source": [
    "kfold = KFold(n_splits=5, shuffle=True, random_state=0)"
   ]
  },
  {
   "cell_type": "code",
   "execution_count": 13,
   "metadata": {},
   "outputs": [
    {
     "name": "stdout",
     "output_type": "stream",
     "text": [
      "0.81814700897621\n"
     ]
    }
   ],
   "source": [
    "svm = SVC(kernel='rbf', C=10, gamma=0.1)\n",
    "gbrt = GradientBoostingClassifier(random_state=37, learning_rate=0.1, n_estimators=100, max_depth=5)\n",
    "logis = LogisticRegression(max_iter=10000, solver='lbfgs', random_state=42, C=0.1, n_jobs=-1)\n",
    "knn = KNeighborsClassifier(n_jobs=-1)\n",
    "forest = RandomForestClassifier(n_estimators=100, random_state=37)\n",
    "\n",
    "ensem_voting = VotingClassifier(estimators= [('gbrt', gbrt), ('logis', logis), ('knn', knn), ('forest', forest), ('svm', svm)], voting='hard')\n",
    "print(cross_val_score(estimator=ensem_voting, X=train_data_Xtransformed, y=train_data_Y, cv=kfold).mean())\n"
   ]
  },
  {
   "cell_type": "code",
   "execution_count": 7,
   "metadata": {},
   "outputs": [
    {
     "data": {
      "text/plain": [
       "VotingClassifier(estimators=[('gbrt', GradientBoostingClassifier(criterion='friedman_mse', init=None,\n",
       "              learning_rate=0.1, loss='deviance', max_depth=5,\n",
       "              max_features=None, max_leaf_nodes=None,\n",
       "              min_impurity_decrease=0.0, min_impurity_split=None,\n",
       "              min_samples_leaf=1...ators=100, n_jobs=None,\n",
       "            oob_score=False, random_state=37, verbose=0, warm_start=False))],\n",
       "         flatten_transform=None, n_jobs=None, voting='hard', weights=None)"
      ]
     },
     "execution_count": 7,
     "metadata": {},
     "output_type": "execute_result"
    }
   ],
   "source": [
    "ensem_voting.fit(train_data_Xtransformed, train_data_Y)"
   ]
  },
  {
   "cell_type": "code",
   "execution_count": 8,
   "metadata": {},
   "outputs": [],
   "source": [
    "test_data_Y = ensem_voting.predict(test_data_Xtransformed)"
   ]
  },
  {
   "cell_type": "code",
   "execution_count": 10,
   "metadata": {},
   "outputs": [],
   "source": [
    "test_data_X  = pandas.read_csv('test.csv', delimiter=',')\n",
    "submission = pandas.DataFrame({'PassengerID': test_data_X['PassengerId'].values, 'Survived': test_data_Y})"
   ]
  },
  {
   "cell_type": "code",
   "execution_count": 34,
   "metadata": {},
   "outputs": [],
   "source": [
    "submission.to_csv('submission.csv', encoding='utf-8', index=False)"
   ]
  }
 ],
 "metadata": {
  "kernelspec": {
   "display_name": "Python 3",
   "language": "python",
   "name": "python3"
  },
  "language_info": {
   "codemirror_mode": {
    "name": "ipython",
    "version": 3
   },
   "file_extension": ".py",
   "mimetype": "text/x-python",
   "name": "python",
   "nbconvert_exporter": "python",
   "pygments_lexer": "ipython3",
   "version": "3.7.3"
  }
 },
 "nbformat": 4,
 "nbformat_minor": 2
}
