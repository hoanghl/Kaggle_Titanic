{
 "cells": [
  {
   "cell_type": "code",
   "execution_count": 1,
   "metadata": {},
   "outputs": [],
   "source": [
    "import pandas\n",
    "import numpy as np\n",
    "\n",
    "# for Learning\n",
    "from sklearn.linear_model import LogisticRegression\n",
    "from sklearn.svm import SVC\n",
    "from sklearn.ensemble import GradientBoostingClassifier\n",
    "# for Feature Engineering\n",
    "from sklearn.preprocessing import MinMaxScaler\n",
    "from sklearn.model_selection import KFold\n",
    "from sklearn.model_selection import cross_val_score\n",
    "\n",
    "# for visualization\n",
    "import matplotlib.pyplot as plt\n",
    "import seaborn as sns\n",
    "sns.set()"
   ]
  },
  {
   "cell_type": "code",
   "execution_count": 8,
   "metadata": {},
   "outputs": [],
   "source": [
    "train_data_X = pandas.read_csv('train.csv', delimiter=',')\n",
    "test_data_X  = pandas.read_csv('test.csv', delimiter=',')\n",
    "\n",
    "test_data_X  = test_data_X.drop(columns=['Cabin', 'Ticket', 'PassengerId', 'Name'])\n",
    "test_data_Y  = 0\n",
    "train_data_Y = train_data_X['Survived']\n",
    "train_data_X = train_data_X.drop(columns=['Cabin', 'Ticket', 'PassengerId', 'Name', 'Survived'])\n",
    "\n",
    "\n",
    "\n",
    "important_features = ['Embarked', 'Sex', 'Pclass']\n",
    "\n",
    "'''\n",
    "    fillMissing: fill columns containing missing.\n",
    "    Base on: Embarked, Sex, Pclass\n",
    "    1. Filter rows whose features have the same value with the dealing with one   \n",
    "'''\n",
    "\n",
    "\n",
    "def quantization(data):\n",
    "\n",
    "    for index, row in data.iterrows():\n",
    "        # SibSp, Parch\n",
    "        if row['SibSp'] > 1:\n",
    "            data.at[row.name, 'SibSp'] = 2\n",
    "        if row['Parch'] > 1:\n",
    "            data.at[row.name, 'Parch'] = 2\n",
    "\n",
    "        # Embarked\n",
    "        if row['Embarked'] == 'S':\n",
    "            data.at[row.name, 'Embarked'] = 0\n",
    "        elif row['Embarked'] == 'C':\n",
    "            data.at[row.name, 'Embarked'] = 1\n",
    "        else:\n",
    "            data.at[row.name, 'Embarked'] = 2\n",
    "\n",
    "        # Sex\n",
    "        if row['Sex'] == 'male':\n",
    "            data.at[row.name, 'Sex'] = 1\n",
    "        else:\n",
    "            data.at[row.name, 'Sex'] = 2\n",
    "            \n",
    "#         #Age\n",
    "#         if row['Age'] < 15:\n",
    "#             data.at[row.name, 'Age'] = 1\n",
    "#         elif row['Age'] < 35:\n",
    "#             data.at[row.name, 'Age'] = 2\n",
    "#         elif row['Age'] < 55:\n",
    "#             data.at[row.name, 'Age'] = 3\n",
    "#         else:\n",
    "#             data.at[row.name, 'Age'] = 4\n",
    "\n",
    "\n",
    "def fill_missing(data, feature):\n",
    "    null_data = data[data[feature].isnull()]\n",
    "\n",
    "    for index, row in null_data.iterrows():\n",
    "        nulldata_Embarked = row['Embarked']\n",
    "        nulldata_Sex      = row['Sex']\n",
    "        nulldata_Pclass   = row['Pclass']\n",
    "\n",
    "        series_null = 1\n",
    "        for im_feature, nulldata_value in zip(important_features, [nulldata_Embarked, nulldata_Sex, nulldata_Pclass]):\n",
    "            if im_feature != feature:\n",
    "                series_null = series_null & (data[im_feature] == nulldata_value)\n",
    "\n",
    "        filtered_column = (data.loc[series_null])[feature]\n",
    "        data.at[row.name, feature] = filtered_column.mean()"
   ]
  },
  {
   "cell_type": "code",
   "execution_count": 9,
   "metadata": {},
   "outputs": [],
   "source": [
    "quantization(data=train_data_X)\n",
    "fill_missing(train_data_X, 'Fare')\n",
    "fill_missing(train_data_X, 'Age')\n",
    "\n",
    "quantization(test_data_X)\n",
    "fill_missing(test_data_X, 'Fare')\n",
    "fill_missing(test_data_X, 'Age')"
   ]
  },
  {
   "cell_type": "code",
   "execution_count": 10,
   "metadata": {},
   "outputs": [
    {
     "name": "stderr",
     "output_type": "stream",
     "text": [
      "/opt/anaconda/envs/Machine_Learning/lib/python3.7/site-packages/sklearn/preprocessing/data.py:323: DataConversionWarning: Data with input dtype int64, float64, object were all converted to float64 by MinMaxScaler.\n",
      "  return self.partial_fit(X, y)\n"
     ]
    },
    {
     "data": {
      "text/plain": [
       "MinMaxScaler(copy=True, feature_range=(0, 1))"
      ]
     },
     "execution_count": 10,
     "metadata": {},
     "output_type": "execute_result"
    }
   ],
   "source": [
    "scaler = MinMaxScaler()\n",
    "scaler.fit(train_data_X)"
   ]
  },
  {
   "cell_type": "code",
   "execution_count": 15,
   "metadata": {},
   "outputs": [],
   "source": [
    "# train_data_Xtransformed = scaler.transform(train_data_X)\n",
    "# test_data_Xtransformed = scaler.transform(test_data_X)\n",
    "\n",
    "train_data_Xtransformed = train_data_X.values\n",
    "test_data_Xtransformed = scaler.transform(test_data_X)"
   ]
  },
  {
   "cell_type": "code",
   "execution_count": 16,
   "metadata": {},
   "outputs": [],
   "source": [
    "kfold = KFold(n_splits=5, shuffle=True, random_state=0)"
   ]
  },
  {
   "cell_type": "code",
   "execution_count": 18,
   "metadata": {},
   "outputs": [
    {
     "name": "stdout",
     "output_type": "stream",
     "text": [
      "0.8035716527524952\n"
     ]
    }
   ],
   "source": [
    "# logreg = LogisticRegression(solver='lbfgs')\n",
    "svm = SVC(kernel='rbf', C=10, gamma=0.1)\n",
    "gbrt = GradientBoostingClassifier(random_state=37, learning_rate=0.1, n_estimators=5, max_depth=5)\n",
    "print(cross_val_score(estimator=gbrt, X=train_data_Xtransformed, y=train_data_Y, cv=kfold).mean())"
   ]
  },
  {
   "cell_type": "code",
   "execution_count": null,
   "metadata": {},
   "outputs": [],
   "source": []
  },
  {
   "cell_type": "code",
   "execution_count": 9,
   "metadata": {},
   "outputs": [
    {
     "data": {
      "image/png": "[encoded data removed]",
      "text/plain": [
       "<Figure size 648x648 with 1 Axes>"
      ]
     },
     "metadata": {
      "needs_background": "light"
     },
     "output_type": "display_data"
    }
   ],
   "source": [
    "age = train_data_X['Fare'].values\n",
    "fig, ax1 = plt.subplots(nrows=1, ncols=1, figsize=(9, 9), sharey=True)\n",
    "ax1.violinplot(age)\n",
    "plt.show()"
   ]
  },
  {
   "cell_type": "code",
   "execution_count": null,
   "metadata": {},
   "outputs": [],
   "source": []
  }
 ],
 "metadata": {
  "kernelspec": {
   "display_name": "Python 3",
   "language": "python",
   "name": "python3"
  },
  "language_info": {
   "codemirror_mode": {
    "name": "ipython",
    "version": 3
   },
   "file_extension": ".py",
   "mimetype": "text/x-python",
   "name": "python",
   "nbconvert_exporter": "python",
   "pygments_lexer": "ipython3",
   "version": "3.7.2"
  }
 },
 "nbformat": 4,
 "nbformat_minor": 2
}
